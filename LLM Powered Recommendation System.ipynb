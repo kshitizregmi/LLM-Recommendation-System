{
 "cells": [
  {
   "cell_type": "code",
   "execution_count": 28,
   "id": "13d09c46-42be-44b4-a6a5-79fb950fdf0d",
   "metadata": {},
   "outputs": [],
   "source": [
    "# %%bash\n",
    "# pip install chromadb"
   ]
  },
  {
   "cell_type": "code",
   "execution_count": 2,
   "id": "f468cad4-6557-4efe-a7a8-fba61a00bd95",
   "metadata": {},
   "outputs": [],
   "source": [
    "import env"
   ]
  },
  {
   "cell_type": "code",
   "execution_count": 3,
   "id": "aa476525-3196-4706-93d9-2c25863f2fd0",
   "metadata": {},
   "outputs": [
    {
     "name": "stdout",
     "output_type": "stream",
     "text": [
      "Index(['abstract', 'web_url', 'snippet', 'lead_paragraph', 'print_section',\n",
      "       'print_page', 'source', 'multimedia', 'headline', 'keywords',\n",
      "       'pub_date', 'document_type', 'news_desk', 'section_name', 'byline',\n",
      "       'type_of_material', '_id', 'word_count', 'uri', 'subsection_name'],\n",
      "      dtype='object')\n"
     ]
    }
   ],
   "source": [
    "import pandas as pd\n",
    "df = pd.read_csv('nyt-metadata.csv', nrows=5000, na_values = ['[]', \"\", \" \"])\n",
    "print(df.columns)"
   ]
  },
  {
   "cell_type": "code",
   "execution_count": 4,
   "id": "332d919b-0994-4766-9ef1-915d3313a386",
   "metadata": {},
   "outputs": [
    {
     "name": "stdout",
     "output_type": "stream",
     "text": [
      "abstract : \t Article on Florida State offensive tackle Todd Williams notes that he earned football scholarship even though he was living on streets when he was 15; photo (M)\n",
      "web_url : \t https://www.nytimes.com/2000/01/01/sports/college-football-from-homeless-to-a-home-at-florida-state.html\n",
      "snippet : \t Article on Florida State offensive tackle Todd Williams notes that he earned football scholarship even though he was living on streets when he was 15; photo (M)\n",
      "lead_paragraph : \t The former high school superstars thought they had it tough. One by one, the Florida State freshman football players vented their frustrations last year during their first meeting with the university's director of student development, Pam Overton:\n",
      "print_section : \t D\n",
      "print_page : \t 3.0\n",
      "source : \t The New York Times\n",
      "multimedia : \t nan\n",
      "headline : \t {'main': 'COLLEGE FOOTBALL; From Homeless to a Home at Florida State', 'kicker': None, 'content_kicker': None, 'print_headline': 'COLLEGE FOOTBALL; From Homeless to a Home at Florida State', 'name': None, 'seo': None, 'sub': None}\n",
      "keywords : \t [{'name': 'organizations', 'value': 'Florida State University', 'rank': 1, 'major': 'N'}, {'name': 'organizations', 'value': 'VIRGINIA POLYTECHNIC INSTITUTE & STATE UNIVERSITY', 'rank': 2, 'major': 'N'}, {'name': 'persons', 'value': 'Ettkin, Brian', 'rank': 3, 'major': 'N'}, {'name': 'persons', 'value': 'Williams, Todd', 'rank': 4, 'major': 'N'}, {'name': 'subject', 'value': 'Football', 'rank': 5, 'major': 'N'}, {'name': 'subject', 'value': 'Biographical Information', 'rank': 6, 'major': 'N'}, {'name': 'subject', 'value': 'Scholarships and Fellowships', 'rank': 7, 'major': 'N'}, {'name': 'subject', 'value': 'Homeless Persons', 'rank': 8, 'major': 'N'}, {'name': 'subject', 'value': 'Sugar Bowl', 'rank': 9, 'major': 'N'}]\n",
      "pub_date : \t 2000-01-01 05:00:00+00:00\n",
      "document_type : \t article\n",
      "news_desk : \t Sports Desk\n",
      "section_name : \t Sports\n",
      "byline : \t {'original': 'By Brian Ettkin/New York Times Regional Newspapers', 'person': [{'firstname': '', 'middlename': None, 'lastname': '', 'qualifier': None, 'title': None, 'role': 'reported', 'organization': '', 'rank': 1}], 'organization': None}\n",
      "type_of_material : \t News\n",
      "_id : \t nyt://article/07865d60-30eb-55ce-a609-d9f1a5d8ab5b\n",
      "word_count : \t 1178.0\n",
      "uri : \t nyt://article/07865d60-30eb-55ce-a609-d9f1a5d8ab5b\n",
      "subsection_name : \t nan\n"
     ]
    }
   ],
   "source": [
    "for col in df.columns:\n",
    "    print(col , \": \\t\" ,df[col][6])"
   ]
  },
  {
   "cell_type": "code",
   "execution_count": 5,
   "id": "3c041191-ff5e-4923-961c-5e47e1f19f79",
   "metadata": {},
   "outputs": [
    {
     "data": {
      "text/plain": [
       "Index(['abstract', 'web_url', 'snippet', 'lead_paragraph', 'print_section',\n",
       "       'print_page', 'source', 'multimedia', 'headline', 'keywords',\n",
       "       'pub_date', 'document_type', 'news_desk', 'section_name', 'byline',\n",
       "       'type_of_material', '_id', 'word_count', 'uri', 'subsection_name'],\n",
       "      dtype='object')"
      ]
     },
     "execution_count": 5,
     "metadata": {},
     "output_type": "execute_result"
    }
   ],
   "source": [
    "df.columns"
   ]
  },
  {
   "cell_type": "code",
   "execution_count": 6,
   "id": "92f3a534-a8be-4afa-bb56-93b27a4d8b34",
   "metadata": {},
   "outputs": [],
   "source": [
    "required = ['uri', 'headline', 'abstract', 'lead_paragraph']\n",
    "df = df[required]\n",
    "df.dropna(inplace = True)"
   ]
  },
  {
   "cell_type": "code",
   "execution_count": 7,
   "id": "24d2a331-51ff-4505-b3f3-ff465327c906",
   "metadata": {},
   "outputs": [],
   "source": [
    "df[\"article_id\"] = df['uri'].str.split(\"/\").apply(lambda x: x[-1])"
   ]
  },
  {
   "cell_type": "code",
   "execution_count": 8,
   "id": "ecef6520-e9c2-44d6-b2c0-290bbf72a8bc",
   "metadata": {},
   "outputs": [],
   "source": [
    "df.headline = df.headline.apply(lambda x: eval(x)['main'])"
   ]
  },
  {
   "cell_type": "code",
   "execution_count": 9,
   "id": "ec4ebaeb-6ade-4e39-ae32-d839d169ea14",
   "metadata": {},
   "outputs": [
    {
     "data": {
      "text/html": [
       "<div>\n",
       "<style scoped>\n",
       "    .dataframe tbody tr th:only-of-type {\n",
       "        vertical-align: middle;\n",
       "    }\n",
       "\n",
       "    .dataframe tbody tr th {\n",
       "        vertical-align: top;\n",
       "    }\n",
       "\n",
       "    .dataframe thead th {\n",
       "        text-align: right;\n",
       "    }\n",
       "</style>\n",
       "<table border=\"1\" class=\"dataframe\">\n",
       "  <thead>\n",
       "    <tr style=\"text-align: right;\">\n",
       "      <th></th>\n",
       "      <th>uri</th>\n",
       "      <th>headline</th>\n",
       "      <th>abstract</th>\n",
       "      <th>lead_paragraph</th>\n",
       "      <th>article_id</th>\n",
       "    </tr>\n",
       "  </thead>\n",
       "  <tbody>\n",
       "    <tr>\n",
       "      <th>0</th>\n",
       "      <td>nyt://article/01111a48-3502-5021-8096-bc929379...</td>\n",
       "      <td>Playoffs or No, Dallas Provides The Motivation</td>\n",
       "      <td>Article on upcoming New York Giants-Dallas Cow...</td>\n",
       "      <td>Waiting in the visiting locker room at Texas S...</td>\n",
       "      <td>01111a48-3502-5021-8096-bc9293797d54</td>\n",
       "    </tr>\n",
       "    <tr>\n",
       "      <th>1</th>\n",
       "      <td>nyt://article/02328edc-dad1-5eb0-900e-917162e4...</td>\n",
       "      <td>On This First Day, a Fanfare for the New Era; ...</td>\n",
       "      <td>Jeanne C Pond letter expresses hope that spiri...</td>\n",
       "      <td>To the Editor:</td>\n",
       "      <td>02328edc-dad1-5eb0-900e-917162e46dcd</td>\n",
       "    </tr>\n",
       "    <tr>\n",
       "      <th>2</th>\n",
       "      <td>nyt://article/02a8f89b-153f-5b84-983c-e328de5b...</td>\n",
       "      <td>Internet's Cheering Squad Nervously Watches Clock</td>\n",
       "      <td>Many experts on Y2K computer problem report th...</td>\n",
       "      <td>As the world slid nervously yesterday through ...</td>\n",
       "      <td>02a8f89b-153f-5b84-983c-e328de5bf811</td>\n",
       "    </tr>\n",
       "  </tbody>\n",
       "</table>\n",
       "</div>"
      ],
      "text/plain": [
       "                                                 uri  \\\n",
       "0  nyt://article/01111a48-3502-5021-8096-bc929379...   \n",
       "1  nyt://article/02328edc-dad1-5eb0-900e-917162e4...   \n",
       "2  nyt://article/02a8f89b-153f-5b84-983c-e328de5b...   \n",
       "\n",
       "                                            headline  \\\n",
       "0     Playoffs or No, Dallas Provides The Motivation   \n",
       "1  On This First Day, a Fanfare for the New Era; ...   \n",
       "2  Internet's Cheering Squad Nervously Watches Clock   \n",
       "\n",
       "                                            abstract  \\\n",
       "0  Article on upcoming New York Giants-Dallas Cow...   \n",
       "1  Jeanne C Pond letter expresses hope that spiri...   \n",
       "2  Many experts on Y2K computer problem report th...   \n",
       "\n",
       "                                      lead_paragraph  \\\n",
       "0  Waiting in the visiting locker room at Texas S...   \n",
       "1                                     To the Editor:   \n",
       "2  As the world slid nervously yesterday through ...   \n",
       "\n",
       "                             article_id  \n",
       "0  01111a48-3502-5021-8096-bc9293797d54  \n",
       "1  02328edc-dad1-5eb0-900e-917162e46dcd  \n",
       "2  02a8f89b-153f-5b84-983c-e328de5bf811  "
      ]
     },
     "execution_count": 9,
     "metadata": {},
     "output_type": "execute_result"
    }
   ],
   "source": [
    "df.head(3)"
   ]
  },
  {
   "cell_type": "code",
   "execution_count": 10,
   "id": "c4ec89c2-e555-4491-95fa-76ec92cd2884",
   "metadata": {},
   "outputs": [],
   "source": [
    "corpus = df['headline'].str.lower() + \"\\n\" + df['abstract'].str.lower() + \"\\n\" + df['lead_paragraph'].str.lower()"
   ]
  },
  {
   "cell_type": "markdown",
   "id": "7298aeda-301e-4482-9f25-cc07b43b074f",
   "metadata": {},
   "source": [
    "# Model VertexAI"
   ]
  },
  {
   "cell_type": "code",
   "execution_count": 11,
   "id": "d94a0dbe-6220-44ef-bf3b-8c0f3898c777",
   "metadata": {},
   "outputs": [],
   "source": [
    "from typing import List, Optional\n",
    "\n",
    "# Load the \"Vertex AI Embeddings for Text\" model\n",
    "from vertexai.preview.language_models import TextEmbeddingModel\n",
    "\n",
    "model = TextEmbeddingModel.from_pretrained(\"textembedding-gecko@001\")\n",
    "\n",
    "\n",
    "# Define an embedding method that uses the model\n",
    "def encode_texts_to_embeddings(sentences: List[str]) -> List[Optional[List[float]]]:\n",
    "    try:\n",
    "        embeddings = model.get_embeddings(sentences)\n",
    "        return [embedding.values for embedding in embeddings]\n",
    "    except Exception:\n",
    "        return [None for _ in range(len(sentences))]"
   ]
  },
  {
   "cell_type": "markdown",
   "id": "2ea56db3-491f-4f44-8e86-76c7b7aeb657",
   "metadata": {},
   "source": [
    "Define two more helper functions for converting text to embeddings\n",
    "\n",
    "* generate_batches: According to the documentation, each request can handle up to 5 text instances. Therefore, this method splits sentences into batches of 5 before sending to the embedding API.\n",
    "* encode_text_to_embedding_batched: This method calls generate_batches to handle batching and then calls the embedding API via encode_texts_to_embeddings. It also handles rate-limiting using time.sleep. For production use cases, you would want a more sophisticated rate-limiting mechanism that takes retries into account.\n",
    "\n"
   ]
  },
  {
   "cell_type": "code",
   "execution_count": 12,
   "id": "78c9cb71-72ea-4dcd-b7c6-70da8d02ed45",
   "metadata": {},
   "outputs": [],
   "source": [
    "import functools\n",
    "import time\n",
    "from concurrent.futures import ThreadPoolExecutor\n",
    "from typing import Generator, List, Tuple\n",
    "\n",
    "import numpy as np\n",
    "from tqdm.auto import tqdm\n",
    "\n",
    "import math\n",
    "# Generator function to yield batches of sentences\n",
    "def generate_batches(\n",
    "    sentences: List[str], batch_size: int\n",
    ") -> Generator[List[str], None, None]:\n",
    "    for i in range(0, len(sentences), batch_size):\n",
    "        yield sentences[i : i + batch_size]\n",
    "\n",
    "\n",
    "def encode_text_to_embedding_batched(\n",
    "    sentences: List[str], api_calls_per_second: int = 10, batch_size: int = 5\n",
    ") -> Tuple[List[bool], np.ndarray]:\n",
    "\n",
    "    embeddings_list: List[List[float]] = []\n",
    "\n",
    "    # Prepare the batches using a generator\n",
    "    batches = generate_batches(sentences, batch_size)\n",
    "\n",
    "    seconds_per_job = 1 / api_calls_per_second\n",
    "\n",
    "    with ThreadPoolExecutor() as executor:\n",
    "        futures = []\n",
    "        for batch in tqdm(\n",
    "            batches, total=math.ceil(len(sentences) / batch_size), position=0\n",
    "        ):\n",
    "            futures.append(\n",
    "                executor.submit(functools.partial(encode_texts_to_embeddings), batch)\n",
    "            )\n",
    "            time.sleep(seconds_per_job)\n",
    "\n",
    "        for future in futures:\n",
    "            embeddings_list.extend(future.result())\n",
    "\n",
    "    is_successful = [\n",
    "        embedding is not None for sentence, embedding in zip(sentences, embeddings_list)\n",
    "    ]\n",
    "    embeddings_list_successful = np.squeeze(\n",
    "        np.stack([embedding for embedding in embeddings_list if embedding is not None])\n",
    "    )\n",
    "    return is_successful, embeddings_list_successful"
   ]
  },
  {
   "cell_type": "code",
   "execution_count": 13,
   "id": "581b5e22-f7c9-4690-b9ab-2891bed022ee",
   "metadata": {},
   "outputs": [
    {
     "data": {
      "application/vnd.jupyter.widget-view+json": {
       "model_id": "c2b796f671af4d4d83302aacf1f29a33",
       "version_major": 2,
       "version_minor": 0
      },
      "text/plain": [
       "  0%|          | 0/2 [00:00<?, ?it/s]"
      ]
     },
     "metadata": {},
     "output_type": "display_data"
    }
   ],
   "source": [
    "# Encode a subset of questions for validation\n",
    "is_successful, embeddings = encode_text_to_embedding_batched(\n",
    "    sentences=corpus\n",
    ")"
   ]
  },
  {
   "cell_type": "code",
   "execution_count": 14,
   "id": "a3b9be76-4ac1-4d0f-b258-3808e0c50b5f",
   "metadata": {},
   "outputs": [
    {
     "data": {
      "text/plain": [
       "[{'uri': 'nyt://article/01111a48-3502-5021-8096-bc9293797d54',\n",
       "  'headline': 'Playoffs or No, Dallas Provides The Motivation',\n",
       "  'abstract': 'Article on upcoming New York Giants-Dallas Cowboys game; photo (M)',\n",
       "  'lead_paragraph': 'Waiting in the visiting locker room at Texas Stadium late tomorrow afternoon, the Giants will know whether the Green Bay Packers, who play earlier against Arizona, have won or are comfortably ahead.',\n",
       "  'article_id': '01111a48-3502-5021-8096-bc9293797d54'},\n",
       " {'uri': 'nyt://article/02328edc-dad1-5eb0-900e-917162e46dcd',\n",
       "  'headline': 'On This First Day, a Fanfare for the New Era; Knowing the World',\n",
       "  'abstract': 'Jeanne C Pond letter expresses hope that spiritual development, artistic knowledge and skills and self-esteem flourish in new century; drawing',\n",
       "  'lead_paragraph': 'To the Editor:',\n",
       "  'article_id': '02328edc-dad1-5eb0-900e-917162e46dcd'},\n",
       " {'uri': 'nyt://article/02a8f89b-153f-5b84-983c-e328de5bf811',\n",
       "  'headline': \"Internet's Cheering Squad Nervously Watches Clock\",\n",
       "  'abstract': 'Many experts on Y2K computer problem report that Internet performed impressively through rollover from 1999 to 2000 even if it did sag at times in isolated sites as users turned to e-mail messages, Web sites, newsgroups and electronic chat rooms to track arrival of Year 2000 in more and more time zones (M)',\n",
       "  'lead_paragraph': 'As the world slid nervously yesterday through the shadow of its first global technology challenge, many year 2000 experts took special comfort in the relatively stable behavior of one of their principal tools in dealing with the problem: the not-always-reliable Internet.',\n",
       "  'article_id': '02a8f89b-153f-5b84-983c-e328de5bf811'},\n",
       " {'uri': 'nyt://article/0634d837-97b8-59b5-aa17-f90d1a8996b1',\n",
       "  'headline': 'Economic Thinking Finds a Free Market',\n",
       "  'abstract': 'WILL the forces of globalism continue to push the world toward American-style capitalism?    As the 21st century begins, advocates of the free market have no doubt that they have won the economic argument. Socialism is dead. Moreover, as a means of creating wealth and material progress, American capitalism seems to be clearly superior to the Asian variety, with its greater level of government planning, or the European version, with its emphasis on social welfare and protection of workers from losing their jobs.  ',\n",
       "  'lead_paragraph': 'WILL the forces of globalism continue to push the world toward American-style capitalism?',\n",
       "  'article_id': '0634d837-97b8-59b5-aa17-f90d1a8996b1'},\n",
       " {'uri': 'nyt://article/0654cc64-c37f-594d-9290-1ce578cd9c7a',\n",
       "  'headline': 'INSIDE',\n",
       "  'abstract': ' SPECIAL TODAY  The Millennium  Envisioning the future of politics, people, cities and machines -- even the front page of The Times -- and reflecting on the past.  SECTION E',\n",
       "  'lead_paragraph': 'SPECIAL TODAY',\n",
       "  'article_id': '0654cc64-c37f-594d-9290-1ce578cd9c7a'},\n",
       " {'uri': 'nyt://article/06c5f039-1583-54cb-997f-21fdc748edf6',\n",
       "  'headline': 'Paid Notice: Deaths  BAUER, LILLIAN',\n",
       "  'abstract': 'BAUER-Lillian. December 30, 1999. Beloved wife of the late Jules L. Bauer. Loving mother of Peter M. Bauer and his wife Emily Bauer. Cherished grandmother of David A. Bauer and Victoria Nadler and great-grandmother of Audrey and Stephen Nadler. Devoted sister of Alice G. Fish and Irene G. Berzon. Funeral private.',\n",
       "  'lead_paragraph': 'BAUER-Lillian. December 30, 1999. Beloved wife of the late Jules L. Bauer. Loving mother of Peter M. Bauer and his wife Emily Bauer. Cherished grandmother of David A. Bauer and Victoria Nadler and great-grandmother of Audrey and Stephen Nadler. Devoted sister of Alice G. Fish and Irene G. Berzon. Funeral private.',\n",
       "  'article_id': '06c5f039-1583-54cb-997f-21fdc748edf6'},\n",
       " {'uri': 'nyt://article/07865d60-30eb-55ce-a609-d9f1a5d8ab5b',\n",
       "  'headline': 'COLLEGE FOOTBALL; From Homeless to a Home at Florida State',\n",
       "  'abstract': 'Article on Florida State offensive tackle Todd Williams notes that he earned football scholarship even though he was living on streets when he was 15; photo (M)',\n",
       "  'lead_paragraph': \"The former high school superstars thought they had it tough. One by one, the Florida State freshman football players vented their frustrations last year during their first meeting with the university's director of student development, Pam Overton:\",\n",
       "  'article_id': '07865d60-30eb-55ce-a609-d9f1a5d8ab5b'},\n",
       " {'uri': 'nyt://article/08bb03fd-12ab-5bb3-bf06-ac2970ca6a1a',\n",
       "  'headline': 'Science Invades the Pantry',\n",
       "  'abstract': 'Rice, milk, produce, eggs and corn that have been improved through genetic engeering or more traditional tools of biotechnology will be available in early years of 21st century; photos (M)',\n",
       "  'lead_paragraph': 'So far, most of the inventions of agricultural biotechnology have been new weapons for farmers in their fight against insects and weeds. A few make processes like making cheese more efficient. One big seller, a cow hormone produced in genetically altered bacteria, increases milk production.',\n",
       "  'article_id': '08bb03fd-12ab-5bb3-bf06-ac2970ca6a1a'},\n",
       " {'uri': 'nyt://article/093528e4-6fbc-5afc-8ffe-3cf5218a05f6',\n",
       "  'headline': 'Tax Lawyer Called Architect of a Tax-Evasion Scheme',\n",
       "  'abstract': \"Judge D Irvin Couvillion rules that Burton W Kanter, one of nation's most prominent tax lawyers, was 'architect' of long-running kickback and tax-evasion scheme in which money was siphoned from funds managed by Prudential and Travelers insurance companies; concludes that Internal Revenue Service overwhelmingly proved its civil fraud case against Kanter; Tax Court holds that $13 million in kickbacks were paid from 1972 through 1988 by four developers and another man to Claude Ballard and Robert Lisle, who were senior executives with Prudential overseeing its real estate investments; court says Ballard and Lisle then steered financing and contracts to developers, and gave 10 percent of kickbacks to Kanter; says kickbacks were funneled to 'sham' companies that Kanter controlled; Kanter denies any wrongdoing and says he will appeal; photos (M)\",\n",
       "  'lead_paragraph': \"A Tax Court judge has ruled that one of the nation's most prominent tax lawyers, Burton W. Kanter of Chicago, was ''the architect'' of a long-running kickback and tax-evasion scheme in which money was siphoned from funds managed by the Prudential and Travelers insurance companies.\",\n",
       "  'article_id': '093528e4-6fbc-5afc-8ffe-3cf5218a05f6'},\n",
       " {'uri': 'nyt://article/09a24998-4414-5b07-adb4-7c307e364ce5',\n",
       "  'headline': 'Paid Notice: Deaths  GLUCK, SAMUEL E.',\n",
       "  'abstract': 'GLUCK-Samuel E.. At age 74. On December 31, 1999. Scientist and philosopher. Survived by wife Phyllis Gold Gluck, sons Josiah, Theodore and Sebastian; Zina and Ernest Stern and cousins. Services Sunday, January 2, at 11:30 AM, Plaza Memorial, 91st Street and Amsterdam Avenue.',\n",
       "  'lead_paragraph': 'GLUCK-Samuel E.. At age 74. On December 31, 1999. Scientist and philosopher. Survived by wife Phyllis Gold Gluck, sons Josiah, Theodore and Sebastian; Zina and Ernest Stern and cousins. Services Sunday, January 2, at 11:30 AM, Plaza Memorial, 91st Street and Amsterdam Avenue.',\n",
       "  'article_id': '09a24998-4414-5b07-adb4-7c307e364ce5'}]"
      ]
     },
     "execution_count": 14,
     "metadata": {},
     "output_type": "execute_result"
    }
   ],
   "source": [
    "ids = df.article_id.astype(str).tolist()\n",
    "metadata = df.to_dict(orient='records')\n",
    "metadata"
   ]
  },
  {
   "cell_type": "markdown",
   "id": "f52eeadf-c00c-49a0-8dcb-9af0acd53c4e",
   "metadata": {},
   "source": [
    "# Initialize Vector Database"
   ]
  },
  {
   "cell_type": "code",
   "execution_count": 32,
   "id": "664151c6-7f14-4ae8-9341-338caa50df37",
   "metadata": {},
   "outputs": [],
   "source": [
    "import chromadb\n",
    "client = chromadb.PersistentClient('chromadb')\n",
    "collection = client.create_collection(\"vector_db\")"
   ]
  },
  {
   "cell_type": "code",
   "execution_count": 22,
   "id": "1baac3a8-2d00-4870-9b32-dc1161ac1951",
   "metadata": {},
   "outputs": [],
   "source": [
    "collection.add(\n",
    "    embeddings = embeddings.tolist(),\n",
    "    metadatas=metadata,\n",
    "    ids=ids\n",
    ")"
   ]
  },
  {
   "cell_type": "code",
   "execution_count": 23,
   "id": "4135a5e6-9720-4990-9481-020dfdc4ae69",
   "metadata": {},
   "outputs": [
    {
     "data": {
      "text/plain": [
       "Collection(name=vector-db)"
      ]
     },
     "execution_count": 23,
     "metadata": {},
     "output_type": "execute_result"
    }
   ],
   "source": [
    "collection"
   ]
  },
  {
   "cell_type": "code",
   "execution_count": null,
   "id": "bff8e1db-0983-4b70-ac80-5b3b1c754058",
   "metadata": {},
   "outputs": [],
   "source": [
    "user_perference = input(\"What kind of News do you like ? \")\n",
    "_, vector = encode_text_to_embedding_batched(\n",
    "    sentences=[user_perference]\n",
    ")\n",
    "results=collection.query(    \n",
    "    query_embeddings=vector.tolist(),\n",
    "    n_results=5)"
   ]
  },
  {
   "cell_type": "code",
   "execution_count": 27,
   "id": "086b40b0-9817-4ca5-920c-da58bd4c0730",
   "metadata": {},
   "outputs": [
    {
     "data": {
      "text/plain": [
       "{'ids': [['01111a48-3502-5021-8096-bc9293797d54',\n",
       "   '07865d60-30eb-55ce-a609-d9f1a5d8ab5b',\n",
       "   '09a24998-4414-5b07-adb4-7c307e364ce5',\n",
       "   '0654cc64-c37f-594d-9290-1ce578cd9c7a',\n",
       "   '02328edc-dad1-5eb0-900e-917162e46dcd']],\n",
       " 'distances': [[0.7745091542354977,\n",
       "   0.8418997007391053,\n",
       "   0.9059741735082196,\n",
       "   0.9169106296502243,\n",
       "   0.9391524051940504]],\n",
       " 'metadatas': [[{'abstract': 'Article on upcoming New York Giants-Dallas Cowboys game; photo (M)',\n",
       "    'article_id': '01111a48-3502-5021-8096-bc9293797d54',\n",
       "    'headline': 'Playoffs or No, Dallas Provides The Motivation',\n",
       "    'lead_paragraph': 'Waiting in the visiting locker room at Texas Stadium late tomorrow afternoon, the Giants will know whether the Green Bay Packers, who play earlier against Arizona, have won or are comfortably ahead.',\n",
       "    'uri': 'nyt://article/01111a48-3502-5021-8096-bc9293797d54'},\n",
       "   {'abstract': 'Article on Florida State offensive tackle Todd Williams notes that he earned football scholarship even though he was living on streets when he was 15; photo (M)',\n",
       "    'article_id': '07865d60-30eb-55ce-a609-d9f1a5d8ab5b',\n",
       "    'headline': 'COLLEGE FOOTBALL; From Homeless to a Home at Florida State',\n",
       "    'lead_paragraph': \"The former high school superstars thought they had it tough. One by one, the Florida State freshman football players vented their frustrations last year during their first meeting with the university's director of student development, Pam Overton:\",\n",
       "    'uri': 'nyt://article/07865d60-30eb-55ce-a609-d9f1a5d8ab5b'},\n",
       "   {'abstract': 'GLUCK-Samuel E.. At age 74. On December 31, 1999. Scientist and philosopher. Survived by wife Phyllis Gold Gluck, sons Josiah, Theodore and Sebastian; Zina and Ernest Stern and cousins. Services Sunday, January 2, at 11:30 AM, Plaza Memorial, 91st Street and Amsterdam Avenue.',\n",
       "    'article_id': '09a24998-4414-5b07-adb4-7c307e364ce5',\n",
       "    'headline': 'Paid Notice: Deaths  GLUCK, SAMUEL E.',\n",
       "    'lead_paragraph': 'GLUCK-Samuel E.. At age 74. On December 31, 1999. Scientist and philosopher. Survived by wife Phyllis Gold Gluck, sons Josiah, Theodore and Sebastian; Zina and Ernest Stern and cousins. Services Sunday, January 2, at 11:30 AM, Plaza Memorial, 91st Street and Amsterdam Avenue.',\n",
       "    'uri': 'nyt://article/09a24998-4414-5b07-adb4-7c307e364ce5'},\n",
       "   {'abstract': ' SPECIAL TODAY  The Millennium  Envisioning the future of politics, people, cities and machines -- even the front page of The Times -- and reflecting on the past.  SECTION E',\n",
       "    'article_id': '0654cc64-c37f-594d-9290-1ce578cd9c7a',\n",
       "    'headline': 'INSIDE',\n",
       "    'lead_paragraph': 'SPECIAL TODAY',\n",
       "    'uri': 'nyt://article/0654cc64-c37f-594d-9290-1ce578cd9c7a'},\n",
       "   {'abstract': 'Jeanne C Pond letter expresses hope that spiritual development, artistic knowledge and skills and self-esteem flourish in new century; drawing',\n",
       "    'article_id': '02328edc-dad1-5eb0-900e-917162e46dcd',\n",
       "    'headline': 'On This First Day, a Fanfare for the New Era; Knowing the World',\n",
       "    'lead_paragraph': 'To the Editor:',\n",
       "    'uri': 'nyt://article/02328edc-dad1-5eb0-900e-917162e46dcd'}]],\n",
       " 'embeddings': None,\n",
       " 'documents': [[None, None, None, None, None]]}"
      ]
     },
     "execution_count": 27,
     "metadata": {},
     "output_type": "execute_result"
    }
   ],
   "source": [
    "results"
   ]
  },
  {
   "cell_type": "code",
   "execution_count": null,
   "id": "cee9cf11-164c-4901-b6ab-9805267ba6fa",
   "metadata": {},
   "outputs": [],
   "source": []
  },
  {
   "cell_type": "code",
   "execution_count": null,
   "id": "3d3889b1-10bd-4962-a683-908c806b8e44",
   "metadata": {},
   "outputs": [],
   "source": []
  }
 ],
 "metadata": {
  "kernelspec": {
   "display_name": "Python 3 (ipykernel)",
   "language": "python",
   "name": "python3"
  },
  "language_info": {
   "codemirror_mode": {
    "name": "ipython",
    "version": 3
   },
   "file_extension": ".py",
   "mimetype": "text/x-python",
   "name": "python",
   "nbconvert_exporter": "python",
   "pygments_lexer": "ipython3",
   "version": "3.9.13"
  }
 },
 "nbformat": 4,
 "nbformat_minor": 5
}
